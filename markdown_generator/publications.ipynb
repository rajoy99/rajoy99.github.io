{
 "cells": [
  {
   "cell_type": "markdown",
   "metadata": {
    "deletable": true,
    "editable": true
   },
   "source": [
    "# Publications markdown generator for academicpages\n",
    "\n",
    "Takes a TSV of publications with metadata and converts them for use with [academicpages.github.io](academicpages.github.io). This is an interactive Jupyter notebook ([see more info here](http://jupyter-notebook-beginner-guide.readthedocs.io/en/latest/what_is_jupyter.html)). The core python code is also in `publications.py`. Run either from the `markdown_generator` folder after replacing `publications.tsv` with one containing your data.\n",
    "\n",
    "TODO: Make this work with BibTex and other databases of citations, rather than Stuart's non-standard TSV format and citation style.\n"
   ]
  },
  {
   "cell_type": "markdown",
   "metadata": {},
   "source": [
    "## Data format\n",
    "\n",
    "The TSV needs to have the following columns: pub_date, title, venue, excerpt, citation, site_url, and paper_url, with a header at the top. \n",
    "\n",
    "- `excerpt` and `paper_url` can be blank, but the others must have values. \n",
    "- `pub_date` must be formatted as YYYY-MM-DD.\n",
    "- `url_slug` will be the descriptive part of the .md file and the permalink URL for the page about the paper. The .md file will be `YYYY-MM-DD-[url_slug].md` and the permalink will be `https://[yourdomain]/publications/YYYY-MM-DD-[url_slug]`\n",
    "\n",
    "This is how the raw file looks (it doesn't look pretty, use a spreadsheet or other program to edit and create)."
   ]
  },
  {
   "cell_type": "code",
   "execution_count": 1,
   "metadata": {
    "collapsed": false
   },
   "outputs": [
    {
     "name": "stdout",
     "output_type": "stream",
     "text": [
      "pub_date\ttitle\tvenue\texcerpt\tcitation\turl_slug\tpaper_url\n",
      "2021-07-25\tAn Interpretable Catboost Model to Predict the Power of Combined Cycle Power Plants \tIEEE Xplore\tIn this study, a Catboost model which can predict the electrical energy output (EP) of a combined cycle power plant is presented. The Root Mean Square Error (RMSE) value achieved with the Catboost model is 0.0678, that is outstandingly lower in comparison with other methods in existing literature. Finally, Shapley additive explanations (SHAP) were employed to explain the inner workings of the Catboost model\t@incollection{Joy2021Jul,  author = {Joy, Rafat Ashraf},  title = {{An Interpretable Catboost Model to Predict the Power of Combined Cycle Power Plants}},  booktitle = {{2021 International Conference on Information Technology (ICIT)}},  journal = {2021 International Conference on Information Technology (ICIT)},  pages = {435--439},  year = {2021},  month = {Jul},  publisher = {IEEE},  doi = {10.1109/ICIT52682.2021.9491700} }\tpaper-title-number-1\thttps://ieeexplore.ieee.org/document/9491700\n",
      "2021-08-27\tFine Tuning the Prediction of the Compressive Strength of Concrete : A Bayesian Optimization Based Approach\tIEEE Xplore\tThis study demonstrates the efficacy of Bayesian Optimization to improve the performance of machine learning models for predicting the strength properties of concrete specimens. In the first phase of the study, five machine learning models(SVR, ABR, RFR, GBR and KNN Regressor) were compared on the basis of rmse, mae and r-squared value on the test set. Two best performing models(GBR and RFR) were selected among the five models for further improvement. In the second phase, hyperparameter tuning by Bayesian Optimization method was done on these two models. Experimental results testify that Bayesian Optimization on these two models improved their prediction performance further. \t@incollection{Joy2021Aug,  author = {Joy, Rafat Ashraf},  title = {{Fine Tuning the Prediction of the Compressive Strength of Concrete : A Bayesian Optimization Based Approach}},  booktitle = {{2021 International Conference on INnovations in Intelligent SysTems and Applications (INISTA)}},  journal = {2021 International Conference on INnovations in Intelligent SysTems and Applications (INISTA)},  pages = {1--6},  year = {2021},  month = {Aug},  publisher = {IEEE},  doi = {10.1109/INISTA52262.2021.9548593} }\tpaper-title-number-2\thttps://ieeexplore.ieee.org/document/9548593\n"
     ]
    }
   ],
   "source": [
    "!cat publications.tsv"
   ]
  },
  {
   "cell_type": "markdown",
   "metadata": {},
   "source": [
    "## Import pandas\n",
    "\n",
    "We are using the very handy pandas library for dataframes."
   ]
  },
  {
   "cell_type": "code",
   "execution_count": 2,
   "metadata": {
    "collapsed": true,
    "deletable": true,
    "editable": true
   },
   "outputs": [],
   "source": [
    "import pandas as pd"
   ]
  },
  {
   "cell_type": "markdown",
   "metadata": {},
   "source": [
    "## Import TSV\n",
    "\n",
    "Pandas makes this easy with the read_csv function. We are using a TSV, so we specify the separator as a tab, or `\\t`.\n",
    "\n",
    "I found it important to put this data in a tab-separated values format, because there are a lot of commas in this kind of data and comma-separated values can get messed up. However, you can modify the import statement, as pandas also has read_excel(), read_json(), and others."
   ]
  },
  {
   "cell_type": "code",
   "execution_count": 3,
   "metadata": {
    "collapsed": false,
    "deletable": true,
    "editable": true
   },
   "outputs": [
    {
     "data": {
      "text/html": [
       "<div>\n",
       "<style scoped>\n",
       "    .dataframe tbody tr th:only-of-type {\n",
       "        vertical-align: middle;\n",
       "    }\n",
       "\n",
       "    .dataframe tbody tr th {\n",
       "        vertical-align: top;\n",
       "    }\n",
       "\n",
       "    .dataframe thead th {\n",
       "        text-align: right;\n",
       "    }\n",
       "</style>\n",
       "<table border=\"1\" class=\"dataframe\">\n",
       "  <thead>\n",
       "    <tr style=\"text-align: right;\">\n",
       "      <th></th>\n",
       "      <th>pub_date</th>\n",
       "      <th>title</th>\n",
       "      <th>venue</th>\n",
       "      <th>excerpt</th>\n",
       "      <th>citation</th>\n",
       "      <th>url_slug</th>\n",
       "      <th>paper_url</th>\n",
       "    </tr>\n",
       "  </thead>\n",
       "  <tbody>\n",
       "    <tr>\n",
       "      <th>0</th>\n",
       "      <td>2021-07-25</td>\n",
       "      <td>An Interpretable Catboost Model to Predict the...</td>\n",
       "      <td>IEEE Xplore</td>\n",
       "      <td>In this study, a Catboost model which can pred...</td>\n",
       "      <td>@incollection{Joy2021Jul,  author = {Joy, Rafa...</td>\n",
       "      <td>paper-title-number-1</td>\n",
       "      <td>https://ieeexplore.ieee.org/document/9491700</td>\n",
       "    </tr>\n",
       "    <tr>\n",
       "      <th>1</th>\n",
       "      <td>2021-08-27</td>\n",
       "      <td>Fine Tuning the Prediction of the Compressive ...</td>\n",
       "      <td>IEEE Xplore</td>\n",
       "      <td>This study demonstrates the efficacy of Bayesi...</td>\n",
       "      <td>@incollection{Joy2021Aug,  author = {Joy, Rafa...</td>\n",
       "      <td>paper-title-number-2</td>\n",
       "      <td>https://ieeexplore.ieee.org/document/9548593</td>\n",
       "    </tr>\n",
       "  </tbody>\n",
       "</table>\n",
       "</div>"
      ],
      "text/plain": [
       "     pub_date                                              title        venue  \\\n",
       "0  2021-07-25  An Interpretable Catboost Model to Predict the...  IEEE Xplore   \n",
       "1  2021-08-27  Fine Tuning the Prediction of the Compressive ...  IEEE Xplore   \n",
       "\n",
       "                                             excerpt  \\\n",
       "0  In this study, a Catboost model which can pred...   \n",
       "1  This study demonstrates the efficacy of Bayesi...   \n",
       "\n",
       "                                            citation              url_slug  \\\n",
       "0  @incollection{Joy2021Jul,  author = {Joy, Rafa...  paper-title-number-1   \n",
       "1  @incollection{Joy2021Aug,  author = {Joy, Rafa...  paper-title-number-2   \n",
       "\n",
       "                                      paper_url  \n",
       "0  https://ieeexplore.ieee.org/document/9491700  \n",
       "1  https://ieeexplore.ieee.org/document/9548593  "
      ]
     },
     "execution_count": 3,
     "metadata": {},
     "output_type": "execute_result"
    }
   ],
   "source": [
    "publications = pd.read_csv(\"publications.tsv\", sep=\"\\t\", header=0)\n",
    "publications\n"
   ]
  },
  {
   "cell_type": "markdown",
   "metadata": {},
   "source": [
    "## Escape special characters\n",
    "\n",
    "YAML is very picky about how it takes a valid string, so we are replacing single and double quotes (and ampersands) with their HTML encoded equivilents. This makes them look not so readable in raw format, but they are parsed and rendered nicely."
   ]
  },
  {
   "cell_type": "code",
   "execution_count": 4,
   "metadata": {
    "collapsed": true,
    "deletable": true,
    "editable": true
   },
   "outputs": [],
   "source": [
    "html_escape_table = {\n",
    "    \"&\": \"&amp;\",\n",
    "    '\"': \"&quot;\",\n",
    "    \"'\": \"&apos;\"\n",
    "    }\n",
    "\n",
    "def html_escape(text):\n",
    "    \"\"\"Produce entities within text.\"\"\"\n",
    "    return \"\".join(html_escape_table.get(c,c) for c in text)"
   ]
  },
  {
   "cell_type": "markdown",
   "metadata": {},
   "source": [
    "## Creating the markdown files\n",
    "\n",
    "This is where the heavy lifting is done. This loops through all the rows in the TSV dataframe, then starts to concatentate a big string (```md```) that contains the markdown for each type. It does the YAML metadata first, then does the description for the individual page."
   ]
  },
  {
   "cell_type": "code",
   "execution_count": 5,
   "metadata": {
    "collapsed": false,
    "deletable": true,
    "editable": true
   },
   "outputs": [],
   "source": [
    "import os\n",
    "for row, item in publications.iterrows():\n",
    "    \n",
    "    md_filename = str(item.pub_date) + \"-\" + item.url_slug + \".md\"\n",
    "    html_filename = str(item.pub_date) + \"-\" + item.url_slug\n",
    "    year = item.pub_date[:4]\n",
    "    \n",
    "    ## YAML variables\n",
    "    \n",
    "    md = \"---\\ntitle: \\\"\"   + item.title + '\"\\n'\n",
    "    \n",
    "    md += \"\"\"collection: publications\"\"\"\n",
    "    \n",
    "    md += \"\"\"\\npermalink: /publication/\"\"\" + html_filename\n",
    "    \n",
    "    if len(str(item.excerpt)) > 5:\n",
    "        md += \"\\nexcerpt: '\" + html_escape(item.excerpt) + \"'\"\n",
    "    \n",
    "    md += \"\\ndate: \" + str(item.pub_date) \n",
    "    \n",
    "    md += \"\\nvenue: '\" + html_escape(item.venue) + \"'\"\n",
    "    \n",
    "    if len(str(item.paper_url)) > 5:\n",
    "        md += \"\\npaperurl: '\" + item.paper_url + \"'\"\n",
    "    \n",
    "    md += \"\\ncitation: '\" + html_escape(item.citation) + \"'\"\n",
    "    \n",
    "    md += \"\\n---\"\n",
    "    \n",
    "    ## Markdown description for individual page\n",
    "        \n",
    "    if len(str(item.excerpt)) > 5:\n",
    "        md += \"\\n\" + html_escape(item.excerpt) + \"\\n\"\n",
    "    \n",
    "    if len(str(item.paper_url)) > 5:\n",
    "        md += \"\\n[Download paper here](\" + item.paper_url + \")\\n\" \n",
    "        \n",
    "    md += \"\\nRecommended citation: \" + item.citation\n",
    "    \n",
    "    md_filename = os.path.basename(md_filename)\n",
    "       \n",
    "    with open(\"../_publications/\" + md_filename, 'w') as f:\n",
    "        f.write(md)"
   ]
  },
  {
   "cell_type": "markdown",
   "metadata": {},
   "source": [
    "These files are in the publications directory, one directory below where we're working from."
   ]
  },
  {
   "cell_type": "code",
   "execution_count": 6,
   "metadata": {
    "collapsed": false,
    "deletable": true,
    "editable": true
   },
   "outputs": [
    {
     "name": "stdout",
     "output_type": "stream",
     "text": [
      "2009-10-01-paper-title-number-1.md  2021-07-25-paper-title-number-1.md\n",
      "2010-10-01-paper-title-number-2.md  2021-08-27-paper-title-number-2.md\n",
      "2015-10-01-paper-title-number-3.md\n"
     ]
    }
   ],
   "source": [
    "!ls ../_publications/"
   ]
  },
  {
   "cell_type": "code",
   "execution_count": 7,
   "metadata": {
    "collapsed": false,
    "deletable": true,
    "editable": true
   },
   "outputs": [
    {
     "name": "stdout",
     "output_type": "stream",
     "text": [
      "---\n",
      "title: \"Paper Title Number 1\"\n",
      "collection: publications\n",
      "permalink: /publication/2009-10-01-paper-title-number-1\n",
      "excerpt: 'This paper is about the number 1. The number 2 is left for future work.'\n",
      "date: 2009-10-01\n",
      "venue: 'Journal 1'\n",
      "paperurl: 'http://academicpages.github.io/files/paper1.pdf'\n",
      "citation: 'Your Name, You. (2009). &quot;Paper Title Number 1.&quot; <i>Journal 1</i>. 1(1).'\n",
      "---\n",
      "This paper is about the number 1. The number 2 is left for future work.\n",
      "\n",
      "[Download paper here](http://academicpages.github.io/files/paper1.pdf)\n",
      "\n",
      "Recommended citation: Your Name, You. (2009). \"Paper Title Number 1.\" <i>Journal 1</i>. 1(1)."
     ]
    }
   ],
   "source": [
    "!cat ../_publications/2009-10-01-paper-title-number-1.md"
   ]
  },
  {
   "cell_type": "code",
   "execution_count": null,
   "metadata": {
    "collapsed": true,
    "deletable": true,
    "editable": true
   },
   "outputs": [],
   "source": []
  }
 ],
 "metadata": {
  "interpreter": {
   "hash": "7707060a70e73c870e805475563b3cd4fc9a8cd9674eb2e22ae7b7046e4eb061"
  },
  "kernelspec": {
   "display_name": "Python 3.8.5 64-bit ('base': conda)",
   "name": "python3"
  },
  "language_info": {
   "codemirror_mode": {
    "name": "ipython",
    "version": 3
   },
   "file_extension": ".py",
   "mimetype": "text/x-python",
   "name": "python",
   "nbconvert_exporter": "python",
   "pygments_lexer": "ipython3",
   "version": "3.8.5"
  }
 },
 "nbformat": 4,
 "nbformat_minor": 0
}
